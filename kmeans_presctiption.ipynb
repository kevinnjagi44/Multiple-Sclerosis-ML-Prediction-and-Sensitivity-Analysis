{
 "cells": [
  {
   "cell_type": "markdown",
   "metadata": {},
   "source": [
    "# Prescriptive K-means algorithm"
   ]
  },
  {
   "cell_type": "code",
   "execution_count": 2,
   "metadata": {},
   "outputs": [],
   "source": [
    "using CSV, DataFrames, Statistics, Distributions"
   ]
  },
  {
   "cell_type": "code",
   "execution_count": 2,
   "metadata": {},
   "outputs": [
    {
     "data": {
      "text/html": [
       "<table class=\"data-frame\"><thead><tr><th></th><th>Reduced.relapse...No.adverse.effect</th><th>Reduced.relapse...Non.serious.adverse.effect.only</th></tr><tr><th></th><th>Float64</th><th>Float64</th></tr></thead><tbody><p>3,000 rows × 57 columns (omitted printing of 55 columns)</p><tr><th>1</th><td>0.856235</td><td>0.826698</td></tr><tr><th>2</th><td>0.963721</td><td>0.909316</td></tr><tr><th>3</th><td>0.997923</td><td>0.994024</td></tr><tr><th>4</th><td>0.967101</td><td>0.8241</td></tr><tr><th>5</th><td>0.996436</td><td>0.929952</td></tr><tr><th>6</th><td>0.890037</td><td>0.85606</td></tr><tr><th>7</th><td>0.812363</td><td>0.690297</td></tr><tr><th>8</th><td>0.978721</td><td>0.839072</td></tr><tr><th>9</th><td>0.99691</td><td>0.89582</td></tr><tr><th>10</th><td>0.86762</td><td>0.865729</td></tr><tr><th>11</th><td>0.905068</td><td>0.8195</td></tr><tr><th>12</th><td>0.967571</td><td>0.900224</td></tr><tr><th>13</th><td>0.985128</td><td>0.878764</td></tr><tr><th>14</th><td>0.97022</td><td>0.898134</td></tr><tr><th>15</th><td>0.753312</td><td>0.746951</td></tr><tr><th>16</th><td>0.993594</td><td>0.93519</td></tr><tr><th>17</th><td>0.819704</td><td>0.677472</td></tr><tr><th>18</th><td>0.936357</td><td>0.635946</td></tr><tr><th>19</th><td>0.969782</td><td>0.946437</td></tr><tr><th>20</th><td>0.894895</td><td>0.829713</td></tr><tr><th>21</th><td>0.891758</td><td>0.810791</td></tr><tr><th>22</th><td>0.975145</td><td>0.952381</td></tr><tr><th>23</th><td>0.967307</td><td>0.851425</td></tr><tr><th>24</th><td>0.969592</td><td>0.903969</td></tr><tr><th>25</th><td>0.983421</td><td>0.76649</td></tr><tr><th>26</th><td>0.964854</td><td>0.961277</td></tr><tr><th>27</th><td>0.922115</td><td>0.888147</td></tr><tr><th>28</th><td>0.967268</td><td>0.952482</td></tr><tr><th>29</th><td>0.962702</td><td>0.918516</td></tr><tr><th>30</th><td>0.683062</td><td>0.660708</td></tr><tr><th>&vellip;</th><td>&vellip;</td><td>&vellip;</td></tr></tbody></table>"
      ],
      "text/latex": [
       "\\begin{tabular}{r|ccc}\n",
       "\t& Reduced.relapse...No.adverse.effect & Reduced.relapse...Non.serious.adverse.effect.only & \\\\\n",
       "\t\\hline\n",
       "\t& Float64 & Float64 & \\\\\n",
       "\t\\hline\n",
       "\t1 & 0.856235 & 0.826698 & $\\dots$ \\\\\n",
       "\t2 & 0.963721 & 0.909316 & $\\dots$ \\\\\n",
       "\t3 & 0.997923 & 0.994024 & $\\dots$ \\\\\n",
       "\t4 & 0.967101 & 0.8241 & $\\dots$ \\\\\n",
       "\t5 & 0.996436 & 0.929952 & $\\dots$ \\\\\n",
       "\t6 & 0.890037 & 0.85606 & $\\dots$ \\\\\n",
       "\t7 & 0.812363 & 0.690297 & $\\dots$ \\\\\n",
       "\t8 & 0.978721 & 0.839072 & $\\dots$ \\\\\n",
       "\t9 & 0.99691 & 0.89582 & $\\dots$ \\\\\n",
       "\t10 & 0.86762 & 0.865729 & $\\dots$ \\\\\n",
       "\t11 & 0.905068 & 0.8195 & $\\dots$ \\\\\n",
       "\t12 & 0.967571 & 0.900224 & $\\dots$ \\\\\n",
       "\t13 & 0.985128 & 0.878764 & $\\dots$ \\\\\n",
       "\t14 & 0.97022 & 0.898134 & $\\dots$ \\\\\n",
       "\t15 & 0.753312 & 0.746951 & $\\dots$ \\\\\n",
       "\t16 & 0.993594 & 0.93519 & $\\dots$ \\\\\n",
       "\t17 & 0.819704 & 0.677472 & $\\dots$ \\\\\n",
       "\t18 & 0.936357 & 0.635946 & $\\dots$ \\\\\n",
       "\t19 & 0.969782 & 0.946437 & $\\dots$ \\\\\n",
       "\t20 & 0.894895 & 0.829713 & $\\dots$ \\\\\n",
       "\t21 & 0.891758 & 0.810791 & $\\dots$ \\\\\n",
       "\t22 & 0.975145 & 0.952381 & $\\dots$ \\\\\n",
       "\t23 & 0.967307 & 0.851425 & $\\dots$ \\\\\n",
       "\t24 & 0.969592 & 0.903969 & $\\dots$ \\\\\n",
       "\t25 & 0.983421 & 0.76649 & $\\dots$ \\\\\n",
       "\t26 & 0.964854 & 0.961277 & $\\dots$ \\\\\n",
       "\t27 & 0.922115 & 0.888147 & $\\dots$ \\\\\n",
       "\t28 & 0.967268 & 0.952482 & $\\dots$ \\\\\n",
       "\t29 & 0.962702 & 0.918516 & $\\dots$ \\\\\n",
       "\t30 & 0.683062 & 0.660708 & $\\dots$ \\\\\n",
       "\t$\\dots$ & $\\dots$ & $\\dots$ &  \\\\\n",
       "\\end{tabular}\n"
      ],
      "text/plain": [
       "3000×57 DataFrame. Omitted printing of 56 columns\n",
       "│ Row  │ Reduced.relapse...No.adverse.effect │\n",
       "│      │ \u001b[90mFloat64\u001b[39m                             │\n",
       "├──────┼─────────────────────────────────────┤\n",
       "│ 1    │ 0.856235                            │\n",
       "│ 2    │ 0.963721                            │\n",
       "│ 3    │ 0.997923                            │\n",
       "│ 4    │ 0.967101                            │\n",
       "│ 5    │ 0.996436                            │\n",
       "│ 6    │ 0.890037                            │\n",
       "│ 7    │ 0.812363                            │\n",
       "│ 8    │ 0.978721                            │\n",
       "│ 9    │ 0.99691                             │\n",
       "│ 10   │ 0.86762                             │\n",
       "⋮\n",
       "│ 2990 │ 0.970215                            │\n",
       "│ 2991 │ 0.920676                            │\n",
       "│ 2992 │ 0.969755                            │\n",
       "│ 2993 │ 0.999928                            │\n",
       "│ 2994 │ 0.939959                            │\n",
       "│ 2995 │ 0.904484                            │\n",
       "│ 2996 │ 0.999407                            │\n",
       "│ 2997 │ 0.934446                            │\n",
       "│ 2998 │ 0.901277                            │\n",
       "│ 2999 │ 0.969545                            │\n",
       "│ 3000 │ 0.907082                            │"
      ]
     },
     "execution_count": 2,
     "metadata": {},
     "output_type": "execute_result"
    }
   ],
   "source": [
    "train = CSV.read(\"utilities_s1_d1_train_v2.csv\")\n",
    "test = CSV.read(\"utilities_s1_d1_test_v2.csv\")"
   ]
  },
  {
   "cell_type": "code",
   "execution_count": 3,
   "metadata": {},
   "outputs": [
    {
     "name": "stdout",
     "output_type": "stream",
     "text": [
      "\u001b[32m\u001b[1m  Updating\u001b[22m\u001b[39m registry at `~/.julia/registries/General`\n",
      "\u001b[32m\u001b[1m  Updating\u001b[22m\u001b[39m git-repo `https://github.com/JuliaRegistries/General.git`\n",
      "\u001b[2K\u001b[?25h[1mFetching:\u001b[22m\u001b[39m [========================================>]  100.0 %.0 %==========>                              ]  23.0 %]  45.9 %============================>            ]  69.0 %]  91.8 %\u001b[32m\u001b[1m Resolving\u001b[22m\u001b[39m package versions...\n",
      "\u001b[32m\u001b[1m Installed\u001b[22m\u001b[39m FFMPEG ─────── v0.2.4\n",
      "\u001b[32m\u001b[1m Installed\u001b[22m\u001b[39m OffsetArrays ─ v0.11.3\n",
      "\u001b[32m\u001b[1m Installed\u001b[22m\u001b[39m QuadGK ─────── v2.2.0\n",
      "\u001b[32m\u001b[1m Installed\u001b[22m\u001b[39m MacroTools ─── v0.5.3\n",
      "\u001b[32m\u001b[1m Installed\u001b[22m\u001b[39m GLM ────────── v1.3.5\n",
      "\u001b[32m\u001b[1m Installed\u001b[22m\u001b[39m Optim ──────── v0.19.6\n",
      "\u001b[32m\u001b[1m  Updating\u001b[22m\u001b[39m `~/.julia/environments/v1.2/Project.toml`\n",
      "\u001b[90m [no changes]\u001b[39m\n",
      "\u001b[32m\u001b[1m  Updating\u001b[22m\u001b[39m `~/.julia/environments/v1.2/Manifest.toml`\n",
      " \u001b[90m [c87230d0]\u001b[39m\u001b[93m ↑ FFMPEG v0.2.3 ⇒ v0.2.4\u001b[39m\n",
      " \u001b[90m [38e38edf]\u001b[39m\u001b[93m ↑ GLM v1.3.4 ⇒ v1.3.5\u001b[39m\n",
      " \u001b[90m [1914dd2f]\u001b[39m\u001b[93m ↑ MacroTools v0.5.2 ⇒ v0.5.3\u001b[39m\n",
      " \u001b[90m [6fe1bfb0]\u001b[39m\u001b[93m ↑ OffsetArrays v0.11.2 ⇒ v0.11.3\u001b[39m\n",
      " \u001b[90m [429524aa]\u001b[39m\u001b[93m ↑ Optim v0.19.5 ⇒ v0.19.6\u001b[39m\n",
      " \u001b[90m [1fd47b50]\u001b[39m\u001b[93m ↑ QuadGK v2.1.1 ⇒ v2.2.0\u001b[39m\n",
      "\u001b[32m\u001b[1m  Building\u001b[22m\u001b[39m FFMPEG → `~/.julia/packages/FFMPEG/guN1x/deps/build.log`\n"
     ]
    }
   ],
   "source": [
    "using Pkg\n",
    "Pkg.add(\"Clustering\")"
   ]
  },
  {
   "cell_type": "code",
   "execution_count": 4,
   "metadata": {},
   "outputs": [],
   "source": [
    "using Clustering"
   ]
  },
  {
   "cell_type": "code",
   "execution_count": 5,
   "metadata": {},
   "outputs": [
    {
     "data": {
      "text/plain": [
       "56×3000 LinearAlgebra.Adjoint{Float64,Array{Float64,2}}:\n",
       " 0.856235   0.963721   0.997923   …  0.901277    0.969545   0.907082 \n",
       " 0.826698   0.909316   0.994024      0.892024    0.862116   0.827107 \n",
       " 0.0604407  0.111133   0.0973145     0.168176    0.244606   0.014268 \n",
       " 0.722798   0.681748   0.763534      0.645286    0.79779    0.691304 \n",
       " 0.0160475  0.0413554  0.0874263     0.00607397  0.0699387  0.0140498\n",
       " 0.497456   0.453693   0.345033   …  0.245087    0.611217   0.12665  \n",
       " 0.722798   0.681748   0.763534      0.645286    0.79779    0.691304 \n",
       " 0.0604407  0.111133   0.0973145     0.168176    0.244606   0.014268 \n",
       " 0.655059   0.576713   0.744305      0.470594    0.721609   0.50668  \n",
       " 0.722798   0.681748   0.763534      0.645286    0.79779    0.691304 \n",
       " 0.0160475  0.0413554  0.0874263  …  0.00607397  0.0699387  0.0140498\n",
       " 0.632719   0.541984   0.600359      0.364427    0.682134   0.370703 \n",
       " 0.722798   0.681748   0.763534      0.645286    0.79779    0.691304 \n",
       " ⋮                                ⋱                                  \n",
       " 0.399344   0.278      0.333049      0.3088      0.659879   0.345206 \n",
       " 0.605102   0.597033   0.684389   …  0.416453    0.770149   0.578776 \n",
       " 0.552255   0.510782   0.366462      0.32426     0.674511   0.355748 \n",
       " 0.0160475  0.0413554  0.0874263     0.00607397  0.0699387  0.0140498\n",
       " 0.399344   0.278      0.333049      0.3088      0.659879   0.345206 \n",
       " 0.605102   0.597033   0.684389      0.416453    0.770149   0.578776 \n",
       " 0.0604407  0.111133   0.0973145  …  0.168176    0.244606   0.014268 \n",
       " 0.237594   0.135106   0.268962      0.240706    0.496784   0.0162785\n",
       " 0.605102   0.597033   0.684389      0.416453    0.770149   0.578776 \n",
       " 0.0604407  0.111133   0.0973145     0.168176    0.244606   0.014268 \n",
       " 0.237594   0.135106   0.268962      0.240706    0.496784   0.0162785\n",
       " 0.605102   0.597033   0.684389   …  0.416453    0.770149   0.578776 "
      ]
     },
     "execution_count": 5,
     "metadata": {},
     "output_type": "execute_result"
    }
   ],
   "source": [
    "M_train = convert(Matrix, train[:,1:56])'\n",
    "M_test = convert(Matrix, test[:,1:56])'"
   ]
  },
  {
   "cell_type": "code",
   "execution_count": 6,
   "metadata": {},
   "outputs": [
    {
     "data": {
      "text/plain": [
       "KmeansResult{Array{Float64,2},Float64,Int64}([0.8236933530418222 0.9509568372429161 … 0.9740964207368132 0.9395247535166138; 0.6853963017586747 0.9114211724754511 … 0.9435576409857052 0.8801903475207666; … ; 0.20295744385020828 0.28757821605188216 … 0.29835667383839126 0.15958798986813014; 0.39961530287697183 0.6887899946256469 … 0.7604910868309154 0.5023857652800954], [24, 53, 72, 67, 85, 57, 35, 76, 89, 59  …  8, 25, 90, 11, 32, 13, 57, 93, 88, 53], [0.051311477112992776, 0.048779684271931245, 0.07167223796061961, 0.07254089009234121, 0.20480415832076204, 0.10141531588563524, 0.1447316713585991, 0.051426942613369775, 0.16713226223112798, 0.12872633097771846  …  0.09168207329617672, 0.08918880574594112, 0.15987076379801124, 0.06776453810316951, 0.09081100999451586, 0.11071186875777528, 0.0897358974827469, 0.12414039930546039, 0.053538702608136646, 0.11126328366719207], [60, 74, 66, 73, 82, 49, 69, 112, 80, 53  …  79, 64, 106, 85, 120, 136, 83, 21, 36, 83], [60, 74, 66, 73, 82, 49, 69, 112, 80, 53  …  79, 64, 106, 85, 120, 136, 83, 21, 36, 83], 792.4505177001521, 37, true)"
      ]
     },
     "execution_count": 6,
     "metadata": {},
     "output_type": "execute_result"
    }
   ],
   "source": [
    "train_means = kmeans(M_train, 100 ; maxiter=200)"
   ]
  },
  {
   "cell_type": "code",
   "execution_count": 7,
   "metadata": {},
   "outputs": [
    {
     "data": {
      "text/plain": [
       "56×100 Array{Float64,2}:\n",
       " 0.823693   0.950957  0.946221  0.959327   …  0.961864  0.974096   0.939525 \n",
       " 0.685396   0.911421  0.892724  0.9105        0.918506  0.943558   0.88019  \n",
       " 0.144875   0.247482  0.167487  0.0675289     0.471058  0.185511   0.0953783\n",
       " 0.456446   0.773642  0.693008  0.716363      0.821748  0.857423   0.689977 \n",
       " 0.0579272  0.18339   0.118286  0.0309751     0.354676  0.0912963  0.0407211\n",
       " 0.278744   0.440017  0.257545  0.168117   …  0.614941  0.387502   0.238429 \n",
       " 0.456446   0.773642  0.693008  0.716363      0.821748  0.857423   0.689977 \n",
       " 0.144875   0.247482  0.167487  0.0675289     0.471058  0.185511   0.0953783\n",
       " 0.409466   0.716214  0.524872  0.516653      0.774803  0.798465   0.584193 \n",
       " 0.456446   0.773642  0.693008  0.716363      0.821748  0.857423   0.689977 \n",
       " 0.0579272  0.18339   0.118286  0.0309751  …  0.354676  0.0912963  0.0407211\n",
       " 0.351158   0.645951  0.356534  0.274351      0.715087  0.727669   0.333541 \n",
       " 0.456446   0.773642  0.693008  0.716363      0.821748  0.857423   0.689977 \n",
       " ⋮                                         ⋱                                \n",
       " 0.271202   0.397921  0.253679  0.159761      0.602045  0.571533   0.242218 \n",
       " 0.399615   0.68879   0.582006  0.424288   …  0.753145  0.760491   0.502386 \n",
       " 0.336956   0.567924  0.356858  0.298538      0.695255  0.683408   0.406419 \n",
       " 0.0579272  0.18339   0.118286  0.0309751     0.354676  0.0912963  0.0407211\n",
       " 0.271202   0.397921  0.253679  0.159761      0.602045  0.571533   0.242218 \n",
       " 0.399615   0.68879   0.582006  0.424288      0.753145  0.760491   0.502386 \n",
       " 0.144875   0.247482  0.167487  0.0675289  …  0.471058  0.185511   0.0953783\n",
       " 0.202957   0.287578  0.196997  0.0983529     0.538723  0.298357   0.159588 \n",
       " 0.399615   0.68879   0.582006  0.424288      0.753145  0.760491   0.502386 \n",
       " 0.144875   0.247482  0.167487  0.0675289     0.471058  0.185511   0.0953783\n",
       " 0.202957   0.287578  0.196997  0.0983529     0.538723  0.298357   0.159588 \n",
       " 0.399615   0.68879   0.582006  0.424288   …  0.753145  0.760491   0.502386 "
      ]
     },
     "execution_count": 7,
     "metadata": {},
     "output_type": "execute_result"
    }
   ],
   "source": [
    "train_assignement = assignments(train_means)\n",
    "centers_train = train_means.centers"
   ]
  },
  {
   "cell_type": "code",
   "execution_count": 8,
   "metadata": {},
   "outputs": [
    {
     "data": {
      "text/plain": [
       "center_affection (generic function with 1 method)"
      ]
     },
     "execution_count": 8,
     "metadata": {},
     "output_type": "execute_result"
    }
   ],
   "source": [
    "function center_affection(data_points, centers_f)\n",
    "    m = size(data_points)[2]\n",
    "    n_clusters = size(centers_f)[2]\n",
    "    \n",
    "    closest_center = [1 for i in 1:m]\n",
    "    \n",
    "    for k in 1:m\n",
    "        \n",
    "        distance = sum((data_points[:,k].-centers_f[:,1]).^2)\n",
    "\n",
    "        for i in 2:n_clusters\n",
    "            \n",
    "            new_distance = sum((data_points[:,k].-centers_f[:,i]).^2)\n",
    "            \n",
    "            if (distance > new_distance)\n",
    "                closest_center[k] = i \n",
    "                distance = new_distance\n",
    "            end\n",
    "        end\n",
    "    end\n",
    "    \n",
    "    return(closest_center)\n",
    "end"
   ]
  },
  {
   "cell_type": "code",
   "execution_count": 9,
   "metadata": {},
   "outputs": [
    {
     "data": {
      "text/plain": [
       "3000-element Array{Int64,1}:\n",
       "  5\n",
       " 72\n",
       " 16\n",
       " 67\n",
       " 24\n",
       " 61\n",
       " 18\n",
       "  9\n",
       " 22\n",
       " 24\n",
       " 48\n",
       " 94\n",
       "  3\n",
       "  ⋮\n",
       " 77\n",
       " 63\n",
       " 57\n",
       " 18\n",
       " 22\n",
       " 22\n",
       " 16\n",
       " 48\n",
       "  5\n",
       " 78\n",
       " 83\n",
       " 21"
      ]
     },
     "execution_count": 9,
     "metadata": {},
     "output_type": "execute_result"
    }
   ],
   "source": [
    "test_assignement = center_affection(M_test,centers_train)"
   ]
  },
  {
   "cell_type": "code",
   "execution_count": 10,
   "metadata": {},
   "outputs": [],
   "source": [
    "data_train_assignement = zeros(7000)\n",
    "data_test_assignement = zeros(3000)\n",
    "for i in 1:7000\n",
    "    data_train_assignement[i] = train_assignement[i]\n",
    "end\n",
    "for i in 1:3000\n",
    "    data_test_assignement[i] = test_assignement[i]\n",
    "end"
   ]
  },
  {
   "cell_type": "code",
   "execution_count": 11,
   "metadata": {},
   "outputs": [
    {
     "data": {
      "text/html": [
       "<table class=\"data-frame\"><thead><tr><th></th><th>assignement</th></tr><tr><th></th><th>Float64</th></tr></thead><tbody><p>3,000 rows × 1 columns</p><tr><th>1</th><td>5.0</td></tr><tr><th>2</th><td>72.0</td></tr><tr><th>3</th><td>16.0</td></tr><tr><th>4</th><td>67.0</td></tr><tr><th>5</th><td>24.0</td></tr><tr><th>6</th><td>61.0</td></tr><tr><th>7</th><td>18.0</td></tr><tr><th>8</th><td>9.0</td></tr><tr><th>9</th><td>22.0</td></tr><tr><th>10</th><td>24.0</td></tr><tr><th>11</th><td>48.0</td></tr><tr><th>12</th><td>94.0</td></tr><tr><th>13</th><td>3.0</td></tr><tr><th>14</th><td>94.0</td></tr><tr><th>15</th><td>31.0</td></tr><tr><th>16</th><td>25.0</td></tr><tr><th>17</th><td>17.0</td></tr><tr><th>18</th><td>7.0</td></tr><tr><th>19</th><td>65.0</td></tr><tr><th>20</th><td>79.0</td></tr><tr><th>21</th><td>93.0</td></tr><tr><th>22</th><td>24.0</td></tr><tr><th>23</th><td>19.0</td></tr><tr><th>24</th><td>69.0</td></tr><tr><th>25</th><td>21.0</td></tr><tr><th>26</th><td>10.0</td></tr><tr><th>27</th><td>82.0</td></tr><tr><th>28</th><td>72.0</td></tr><tr><th>29</th><td>64.0</td></tr><tr><th>30</th><td>76.0</td></tr><tr><th>&vellip;</th><td>&vellip;</td></tr></tbody></table>"
      ],
      "text/latex": [
       "\\begin{tabular}{r|c}\n",
       "\t& assignement\\\\\n",
       "\t\\hline\n",
       "\t& Float64\\\\\n",
       "\t\\hline\n",
       "\t1 & 5.0 \\\\\n",
       "\t2 & 72.0 \\\\\n",
       "\t3 & 16.0 \\\\\n",
       "\t4 & 67.0 \\\\\n",
       "\t5 & 24.0 \\\\\n",
       "\t6 & 61.0 \\\\\n",
       "\t7 & 18.0 \\\\\n",
       "\t8 & 9.0 \\\\\n",
       "\t9 & 22.0 \\\\\n",
       "\t10 & 24.0 \\\\\n",
       "\t11 & 48.0 \\\\\n",
       "\t12 & 94.0 \\\\\n",
       "\t13 & 3.0 \\\\\n",
       "\t14 & 94.0 \\\\\n",
       "\t15 & 31.0 \\\\\n",
       "\t16 & 25.0 \\\\\n",
       "\t17 & 17.0 \\\\\n",
       "\t18 & 7.0 \\\\\n",
       "\t19 & 65.0 \\\\\n",
       "\t20 & 79.0 \\\\\n",
       "\t21 & 93.0 \\\\\n",
       "\t22 & 24.0 \\\\\n",
       "\t23 & 19.0 \\\\\n",
       "\t24 & 69.0 \\\\\n",
       "\t25 & 21.0 \\\\\n",
       "\t26 & 10.0 \\\\\n",
       "\t27 & 82.0 \\\\\n",
       "\t28 & 72.0 \\\\\n",
       "\t29 & 64.0 \\\\\n",
       "\t30 & 76.0 \\\\\n",
       "\t$\\dots$ & $\\dots$ \\\\\n",
       "\\end{tabular}\n"
      ],
      "text/plain": [
       "3000×1 DataFrame\n",
       "│ Row  │ assignement │\n",
       "│      │ \u001b[90mFloat64\u001b[39m     │\n",
       "├──────┼─────────────┤\n",
       "│ 1    │ 5.0         │\n",
       "│ 2    │ 72.0        │\n",
       "│ 3    │ 16.0        │\n",
       "│ 4    │ 67.0        │\n",
       "│ 5    │ 24.0        │\n",
       "│ 6    │ 61.0        │\n",
       "│ 7    │ 18.0        │\n",
       "│ 8    │ 9.0         │\n",
       "│ 9    │ 22.0        │\n",
       "│ 10   │ 24.0        │\n",
       "⋮\n",
       "│ 2990 │ 63.0        │\n",
       "│ 2991 │ 57.0        │\n",
       "│ 2992 │ 18.0        │\n",
       "│ 2993 │ 22.0        │\n",
       "│ 2994 │ 22.0        │\n",
       "│ 2995 │ 16.0        │\n",
       "│ 2996 │ 48.0        │\n",
       "│ 2997 │ 5.0         │\n",
       "│ 2998 │ 78.0        │\n",
       "│ 2999 │ 83.0        │\n",
       "│ 3000 │ 21.0        │"
      ]
     },
     "execution_count": 11,
     "metadata": {},
     "output_type": "execute_result"
    }
   ],
   "source": [
    "data_train_assignement = DataFrame( assignement = data_train_assignement)\n",
    "data_test_assignement = DataFrame( assignement = data_test_assignement)"
   ]
  },
  {
   "cell_type": "code",
   "execution_count": 12,
   "metadata": {},
   "outputs": [
    {
     "data": {
      "text/html": [
       "<table class=\"data-frame\"><thead><tr><th></th><th>Reduced.relapse...No.adverse.effect</th><th>Reduced.relapse...Non.serious.adverse.effect.only</th></tr><tr><th></th><th>Float64</th><th>Float64</th></tr></thead><tbody><p>3,000 rows × 58 columns (omitted printing of 56 columns)</p><tr><th>1</th><td>0.856235</td><td>0.826698</td></tr><tr><th>2</th><td>0.963721</td><td>0.909316</td></tr><tr><th>3</th><td>0.997923</td><td>0.994024</td></tr><tr><th>4</th><td>0.967101</td><td>0.8241</td></tr><tr><th>5</th><td>0.996436</td><td>0.929952</td></tr><tr><th>6</th><td>0.890037</td><td>0.85606</td></tr><tr><th>7</th><td>0.812363</td><td>0.690297</td></tr><tr><th>8</th><td>0.978721</td><td>0.839072</td></tr><tr><th>9</th><td>0.99691</td><td>0.89582</td></tr><tr><th>10</th><td>0.86762</td><td>0.865729</td></tr><tr><th>11</th><td>0.905068</td><td>0.8195</td></tr><tr><th>12</th><td>0.967571</td><td>0.900224</td></tr><tr><th>13</th><td>0.985128</td><td>0.878764</td></tr><tr><th>14</th><td>0.97022</td><td>0.898134</td></tr><tr><th>15</th><td>0.753312</td><td>0.746951</td></tr><tr><th>16</th><td>0.993594</td><td>0.93519</td></tr><tr><th>17</th><td>0.819704</td><td>0.677472</td></tr><tr><th>18</th><td>0.936357</td><td>0.635946</td></tr><tr><th>19</th><td>0.969782</td><td>0.946437</td></tr><tr><th>20</th><td>0.894895</td><td>0.829713</td></tr><tr><th>21</th><td>0.891758</td><td>0.810791</td></tr><tr><th>22</th><td>0.975145</td><td>0.952381</td></tr><tr><th>23</th><td>0.967307</td><td>0.851425</td></tr><tr><th>24</th><td>0.969592</td><td>0.903969</td></tr><tr><th>25</th><td>0.983421</td><td>0.76649</td></tr><tr><th>26</th><td>0.964854</td><td>0.961277</td></tr><tr><th>27</th><td>0.922115</td><td>0.888147</td></tr><tr><th>28</th><td>0.967268</td><td>0.952482</td></tr><tr><th>29</th><td>0.962702</td><td>0.918516</td></tr><tr><th>30</th><td>0.683062</td><td>0.660708</td></tr><tr><th>&vellip;</th><td>&vellip;</td><td>&vellip;</td></tr></tbody></table>"
      ],
      "text/latex": [
       "\\begin{tabular}{r|ccc}\n",
       "\t& Reduced.relapse...No.adverse.effect & Reduced.relapse...Non.serious.adverse.effect.only & \\\\\n",
       "\t\\hline\n",
       "\t& Float64 & Float64 & \\\\\n",
       "\t\\hline\n",
       "\t1 & 0.856235 & 0.826698 & $\\dots$ \\\\\n",
       "\t2 & 0.963721 & 0.909316 & $\\dots$ \\\\\n",
       "\t3 & 0.997923 & 0.994024 & $\\dots$ \\\\\n",
       "\t4 & 0.967101 & 0.8241 & $\\dots$ \\\\\n",
       "\t5 & 0.996436 & 0.929952 & $\\dots$ \\\\\n",
       "\t6 & 0.890037 & 0.85606 & $\\dots$ \\\\\n",
       "\t7 & 0.812363 & 0.690297 & $\\dots$ \\\\\n",
       "\t8 & 0.978721 & 0.839072 & $\\dots$ \\\\\n",
       "\t9 & 0.99691 & 0.89582 & $\\dots$ \\\\\n",
       "\t10 & 0.86762 & 0.865729 & $\\dots$ \\\\\n",
       "\t11 & 0.905068 & 0.8195 & $\\dots$ \\\\\n",
       "\t12 & 0.967571 & 0.900224 & $\\dots$ \\\\\n",
       "\t13 & 0.985128 & 0.878764 & $\\dots$ \\\\\n",
       "\t14 & 0.97022 & 0.898134 & $\\dots$ \\\\\n",
       "\t15 & 0.753312 & 0.746951 & $\\dots$ \\\\\n",
       "\t16 & 0.993594 & 0.93519 & $\\dots$ \\\\\n",
       "\t17 & 0.819704 & 0.677472 & $\\dots$ \\\\\n",
       "\t18 & 0.936357 & 0.635946 & $\\dots$ \\\\\n",
       "\t19 & 0.969782 & 0.946437 & $\\dots$ \\\\\n",
       "\t20 & 0.894895 & 0.829713 & $\\dots$ \\\\\n",
       "\t21 & 0.891758 & 0.810791 & $\\dots$ \\\\\n",
       "\t22 & 0.975145 & 0.952381 & $\\dots$ \\\\\n",
       "\t23 & 0.967307 & 0.851425 & $\\dots$ \\\\\n",
       "\t24 & 0.969592 & 0.903969 & $\\dots$ \\\\\n",
       "\t25 & 0.983421 & 0.76649 & $\\dots$ \\\\\n",
       "\t26 & 0.964854 & 0.961277 & $\\dots$ \\\\\n",
       "\t27 & 0.922115 & 0.888147 & $\\dots$ \\\\\n",
       "\t28 & 0.967268 & 0.952482 & $\\dots$ \\\\\n",
       "\t29 & 0.962702 & 0.918516 & $\\dots$ \\\\\n",
       "\t30 & 0.683062 & 0.660708 & $\\dots$ \\\\\n",
       "\t$\\dots$ & $\\dots$ & $\\dots$ &  \\\\\n",
       "\\end{tabular}\n"
      ],
      "text/plain": [
       "3000×58 DataFrame. Omitted printing of 57 columns\n",
       "│ Row  │ Reduced.relapse...No.adverse.effect │\n",
       "│      │ \u001b[90mFloat64\u001b[39m                             │\n",
       "├──────┼─────────────────────────────────────┤\n",
       "│ 1    │ 0.856235                            │\n",
       "│ 2    │ 0.963721                            │\n",
       "│ 3    │ 0.997923                            │\n",
       "│ 4    │ 0.967101                            │\n",
       "│ 5    │ 0.996436                            │\n",
       "│ 6    │ 0.890037                            │\n",
       "│ 7    │ 0.812363                            │\n",
       "│ 8    │ 0.978721                            │\n",
       "│ 9    │ 0.99691                             │\n",
       "│ 10   │ 0.86762                             │\n",
       "⋮\n",
       "│ 2990 │ 0.970215                            │\n",
       "│ 2991 │ 0.920676                            │\n",
       "│ 2992 │ 0.969755                            │\n",
       "│ 2993 │ 0.999928                            │\n",
       "│ 2994 │ 0.939959                            │\n",
       "│ 2995 │ 0.904484                            │\n",
       "│ 2996 │ 0.999407                            │\n",
       "│ 2997 │ 0.934446                            │\n",
       "│ 2998 │ 0.901277                            │\n",
       "│ 2999 │ 0.969545                            │\n",
       "│ 3000 │ 0.907082                            │"
      ]
     },
     "execution_count": 12,
     "metadata": {},
     "output_type": "execute_result"
    }
   ],
   "source": [
    "train_assignement = hcat(train, data_train_assignement)\n",
    "test_assignement = hcat(test, data_test_assignement)"
   ]
  },
  {
   "cell_type": "code",
   "execution_count": 13,
   "metadata": {},
   "outputs": [
    {
     "data": {
      "text/plain": [
       "most_common (generic function with 1 method)"
      ]
     },
     "execution_count": 13,
     "metadata": {},
     "output_type": "execute_result"
    }
   ],
   "source": [
    "function most_common(dataf)\n",
    "    n = length(dataf)\n",
    "    count = zeros(3)\n",
    "    for i in 1:n\n",
    "        count[dataf[i]] = count[dataf[i]]+1\n",
    "    end\n",
    "    count_max = maximum(count)\n",
    "    ind = findall(a->a==count_max, count)\n",
    "    return(ind[1])\n",
    "end"
   ]
  },
  {
   "cell_type": "code",
   "execution_count": 14,
   "metadata": {},
   "outputs": [
    {
     "data": {
      "text/plain": [
       "prescription (generic function with 1 method)"
      ]
     },
     "execution_count": 14,
     "metadata": {},
     "output_type": "execute_result"
    }
   ],
   "source": [
    "function prescription(test_f, train_f)\n",
    "    nrow = size(test_f)[1]\n",
    "    prescribed_treatment = zeros(nrow)\n",
    "    for i in 1:nrow\n",
    "        cluster = test_f[i, :assignement]\n",
    "        train_filter = filter(train_f -> train_f[:assignement] == cluster, train_f)\n",
    "        prescribed_treatment[i] = most_common(train_filter[:,:best_treatment])\n",
    "    end\n",
    "    return(prescribed_treatment)\n",
    "end"
   ]
  },
  {
   "cell_type": "code",
   "execution_count": 15,
   "metadata": {},
   "outputs": [
    {
     "data": {
      "text/plain": [
       "misclassification_score (generic function with 1 method)"
      ]
     },
     "execution_count": 15,
     "metadata": {},
     "output_type": "execute_result"
    }
   ],
   "source": [
    "function misclassification_score(predicted_val_f, actual_val_f)\n",
    "    n = length(predicted_val_f)\n",
    "    classified_f = 0\n",
    "    for i in 1:n\n",
    "        if (predicted_val_f[i]==actual_val_f[i])\n",
    "            classified_f = classified_f + 1\n",
    "        end\n",
    "    end\n",
    "    score_f = classified_f/n\n",
    "    return(score_f)\n",
    "end"
   ]
  },
  {
   "cell_type": "code",
   "execution_count": 16,
   "metadata": {},
   "outputs": [
    {
     "data": {
      "text/plain": [
       "prescription_performance (generic function with 1 method)"
      ]
     },
     "execution_count": 16,
     "metadata": {},
     "output_type": "execute_result"
    }
   ],
   "source": [
    "function prescription_performance(test_f, train_f, k)\n",
    "    #sizes\n",
    "    n1 = size(test_f)[1]\n",
    "    n2 = size(train_f)[1]\n",
    "    \n",
    "    #converting the data\n",
    "    M_train_f = convert(Matrix, train_f[:,1:56])'\n",
    "    M_test_f = convert(Matrix, test_f[:,1:56])'\n",
    "    \n",
    "    #Calculating the clusters' centers\n",
    "    train_means_f = kmeans(M_train_f, k ; maxiter=200)\n",
    "    train_assignement_f = assignments(train_means_f)\n",
    "    centers_train_f = train_means_f.centers\n",
    "    \n",
    "    #Affecting clusters to test patients\n",
    "    test_assignement_f = center_affection(M_test_f,centers_train_f)\n",
    "    \n",
    "    data_train_assignement_f = zeros(n2)\n",
    "    data_test_assignement_f = zeros(n1)\n",
    "    \n",
    "    for i in 1:n2\n",
    "        data_train_assignement_f[i] = train_assignement_f[i]\n",
    "    end\n",
    "    for i in 1:n1\n",
    "        data_test_assignement_f[i] = test_assignement_f[i]\n",
    "    end\n",
    "    \n",
    "    data_train_assignement_f = DataFrame( assignement = data_train_assignement_f)\n",
    "    data_test_assignement_f = DataFrame( assignement = data_test_assignement_f)\n",
    "    \n",
    "    #New Dataframe with assignamenct\n",
    "    train_assignement_f = hcat(train_f, data_train_assignement_f)\n",
    "    test_assignement_f = hcat(test_f, data_test_assignement_f)\n",
    "\n",
    "    predicted_val = prescription(test_assignement_f, train_assignement_f)\n",
    "    actual_val = test_assignement_f[:,:best_treatment]\n",
    "    \n",
    "    return(misclassification_score(predicted_val, actual_val))\n",
    "    \n",
    "end"
   ]
  },
  {
   "cell_type": "code",
   "execution_count": 32,
   "metadata": {},
   "outputs": [
    {
     "data": {
      "text/plain": [
       "0.637"
      ]
     },
     "execution_count": 32,
     "metadata": {},
     "output_type": "execute_result"
    }
   ],
   "source": [
    "prescription_performance(test, train, 20)"
   ]
  },
  {
   "cell_type": "code",
   "execution_count": 60,
   "metadata": {},
   "outputs": [],
   "source": [
    "seq_k = [5:5:100;]\n",
    "accuracy_k = [0. for i in 1:length(seq_k)]\n",
    "for i in 1:length(seq_k)\n",
    "    accuracy_k[i] = prescription_performance(test, train, seq_k[i])\n",
    "end"
   ]
  },
  {
   "cell_type": "code",
   "execution_count": 62,
   "metadata": {},
   "outputs": [
    {
     "data": {
      "text/plain": [
       "20-element Array{Float64,1}:\n",
       " 0.637             \n",
       " 0.637             \n",
       " 0.637             \n",
       " 0.637             \n",
       " 0.637             \n",
       " 0.637             \n",
       " 0.637             \n",
       " 0.6363333333333333\n",
       " 0.637             \n",
       " 0.6356666666666667\n",
       " 0.6376666666666667\n",
       " 0.6403333333333333\n",
       " 0.6406666666666667\n",
       " 0.6353333333333333\n",
       " 0.6403333333333333\n",
       " 0.6343333333333333\n",
       " 0.6346666666666667\n",
       " 0.6403333333333333\n",
       " 0.636             \n",
       " 0.639             "
      ]
     },
     "execution_count": 62,
     "metadata": {},
     "output_type": "execute_result"
    }
   ],
   "source": [
    "accuracy_k"
   ]
  },
  {
   "cell_type": "markdown",
   "metadata": {},
   "source": [
    "### Evaluating the performance evolution with Data perturbation"
   ]
  },
  {
   "cell_type": "code",
   "execution_count": 50,
   "metadata": {},
   "outputs": [],
   "source": [
    "means_global = CSV.read(\"data/means_global.csv\", header = true);\n",
    "sds_global= CSV.read(\"data/sds_global.csv\", header = true);"
   ]
  },
  {
   "cell_type": "code",
   "execution_count": 73,
   "metadata": {
    "collapsed": true
   },
   "outputs": [
    {
     "name": "stderr",
     "output_type": "stream",
     "text": [
      "┌ Warning: `getindex(df::DataFrame, col_ind::ColumnIndex)` is deprecated, use `df[!, col_ind]` instead.\n",
      "│   caller = top-level scope at In[73]:13\n",
      "└ @ Core ./In[73]:13\n",
      "┌ Warning: `getindex(df::DataFrame, col_ind::ColumnIndex)` is deprecated, use `df[!, col_ind]` instead.\n",
      "│   caller = top-level scope at In[73]:13\n",
      "└ @ Core ./In[73]:13\n",
      "┌ Warning: `getindex(df::DataFrame, col_ind::ColumnIndex)` is deprecated, use `df[!, col_ind]` instead.\n",
      "│   caller = top-level scope at In[73]:14\n",
      "└ @ Core ./In[73]:14\n",
      "┌ Warning: `setindex!(df::DataFrame, v::AbstractVector, ::Colon, col_ind::ColumnIndex)` is deprecated, use `begin\n",
      "│     df[!, col_ind] = v\n",
      "│     df\n",
      "│ end` instead.\n",
      "│   caller = top-level scope at In[73]:16\n",
      "└ @ Core ./In[73]:16\n"
     ]
    }
   ],
   "source": [
    "seq_pertubation = [0:0.1:3;]\n",
    "accuracy_knn_o1 = zeros(length(seq_pertubation))\n",
    "accuracy_knn_o2 = zeros(length(seq_pertubation))\n",
    "accuracy_knn_o3 = zeros(length(seq_pertubation))\n",
    "k = 0\n",
    "for p in seq_pertubation\n",
    "    k = k+1\n",
    "    test_perturbed = deepcopy(test)\n",
    "    m = size(test_perturbed)[2]\n",
    "    n = size(test_perturbed)[1]\n",
    "    \n",
    "    for i in 1:(m-1)\n",
    "           distrib = Normal(means_global[m-i][1], p*sds_global[m-i][1] )\n",
    "           perturb = (means_global[m-i][1] .- rand(distrib, n))\n",
    "           data_perturbed = test_perturbed[:,m-i] .+ perturb\n",
    "           test_perturbed[:,m-i] = data_perturbed\n",
    "    end\n",
    "    accuracy_knn_o1[k] = prescription_performance(test_perturbed, train, 100)\n",
    "    accuracy_knn_o2[k] = prescription_performance(test_perturbed, train, 50)\n",
    "    accuracy_knn_o3[k] = prescription_performance(test_perturbed, train, 20)\n",
    "end"
   ]
  },
  {
   "cell_type": "code",
   "execution_count": 75,
   "metadata": {},
   "outputs": [
    {
     "data": {
      "image/svg+xml": [
       "<?xml version=\"1.0\" encoding=\"utf-8\"?>\n",
       "<svg xmlns=\"http://www.w3.org/2000/svg\" xmlns:xlink=\"http://www.w3.org/1999/xlink\" width=\"600\" height=\"400\" viewBox=\"0 0 2400 1600\">\n",
       "<defs>\n",
       "  <clipPath id=\"clip0700\">\n",
       "    <rect x=\"0\" y=\"0\" width=\"2400\" height=\"1600\"/>\n",
       "  </clipPath>\n",
       "</defs>\n",
       "<path clip-path=\"url(#clip0700)\" d=\"\n",
       "M0 1600 L2400 1600 L2400 0 L0 0  Z\n",
       "  \" fill=\"#ffffff\" fill-rule=\"evenodd\" fill-opacity=\"1\"/>\n",
       "<defs>\n",
       "  <clipPath id=\"clip0701\">\n",
       "    <rect x=\"480\" y=\"0\" width=\"1681\" height=\"1600\"/>\n",
       "  </clipPath>\n",
       "</defs>\n",
       "<path clip-path=\"url(#clip0700)\" d=\"\n",
       "M242.516 1425.62 L2352.76 1425.62 L2352.76 121.675 L242.516 121.675  Z\n",
       "  \" fill=\"#ffffff\" fill-rule=\"evenodd\" fill-opacity=\"1\"/>\n",
       "<defs>\n",
       "  <clipPath id=\"clip0702\">\n",
       "    <rect x=\"242\" y=\"121\" width=\"2111\" height=\"1305\"/>\n",
       "  </clipPath>\n",
       "</defs>\n",
       "<polyline clip-path=\"url(#clip0702)\" style=\"stroke:#000000; stroke-width:2; stroke-opacity:0.1; fill:none\" points=\"\n",
       "  302.24,1425.62 302.24,121.675 \n",
       "  \"/>\n",
       "<polyline clip-path=\"url(#clip0702)\" style=\"stroke:#000000; stroke-width:2; stroke-opacity:0.1; fill:none\" points=\"\n",
       "  965.838,1425.62 965.838,121.675 \n",
       "  \"/>\n",
       "<polyline clip-path=\"url(#clip0702)\" style=\"stroke:#000000; stroke-width:2; stroke-opacity:0.1; fill:none\" points=\"\n",
       "  1629.43,1425.62 1629.43,121.675 \n",
       "  \"/>\n",
       "<polyline clip-path=\"url(#clip0702)\" style=\"stroke:#000000; stroke-width:2; stroke-opacity:0.1; fill:none\" points=\"\n",
       "  2293.03,1425.62 2293.03,121.675 \n",
       "  \"/>\n",
       "<polyline clip-path=\"url(#clip0702)\" style=\"stroke:#000000; stroke-width:2; stroke-opacity:0.1; fill:none\" points=\"\n",
       "  242.516,1425.62 2352.76,1425.62 \n",
       "  \"/>\n",
       "<polyline clip-path=\"url(#clip0702)\" style=\"stroke:#000000; stroke-width:2; stroke-opacity:0.1; fill:none\" points=\"\n",
       "  242.516,1164.83 2352.76,1164.83 \n",
       "  \"/>\n",
       "<polyline clip-path=\"url(#clip0702)\" style=\"stroke:#000000; stroke-width:2; stroke-opacity:0.1; fill:none\" points=\"\n",
       "  242.516,904.041 2352.76,904.041 \n",
       "  \"/>\n",
       "<polyline clip-path=\"url(#clip0702)\" style=\"stroke:#000000; stroke-width:2; stroke-opacity:0.1; fill:none\" points=\"\n",
       "  242.516,643.253 2352.76,643.253 \n",
       "  \"/>\n",
       "<polyline clip-path=\"url(#clip0702)\" style=\"stroke:#000000; stroke-width:2; stroke-opacity:0.1; fill:none\" points=\"\n",
       "  242.516,382.464 2352.76,382.464 \n",
       "  \"/>\n",
       "<polyline clip-path=\"url(#clip0702)\" style=\"stroke:#000000; stroke-width:2; stroke-opacity:0.1; fill:none\" points=\"\n",
       "  242.516,121.675 2352.76,121.675 \n",
       "  \"/>\n",
       "<polyline clip-path=\"url(#clip0700)\" style=\"stroke:#000000; stroke-width:4; stroke-opacity:1; fill:none\" points=\"\n",
       "  242.516,1425.62 2352.76,1425.62 \n",
       "  \"/>\n",
       "<polyline clip-path=\"url(#clip0700)\" style=\"stroke:#000000; stroke-width:4; stroke-opacity:1; fill:none\" points=\"\n",
       "  242.516,1425.62 242.516,121.675 \n",
       "  \"/>\n",
       "<polyline clip-path=\"url(#clip0700)\" style=\"stroke:#000000; stroke-width:4; stroke-opacity:1; fill:none\" points=\"\n",
       "  302.24,1425.62 302.24,1406.06 \n",
       "  \"/>\n",
       "<polyline clip-path=\"url(#clip0700)\" style=\"stroke:#000000; stroke-width:4; stroke-opacity:1; fill:none\" points=\"\n",
       "  965.838,1425.62 965.838,1406.06 \n",
       "  \"/>\n",
       "<polyline clip-path=\"url(#clip0700)\" style=\"stroke:#000000; stroke-width:4; stroke-opacity:1; fill:none\" points=\"\n",
       "  1629.43,1425.62 1629.43,1406.06 \n",
       "  \"/>\n",
       "<polyline clip-path=\"url(#clip0700)\" style=\"stroke:#000000; stroke-width:4; stroke-opacity:1; fill:none\" points=\"\n",
       "  2293.03,1425.62 2293.03,1406.06 \n",
       "  \"/>\n",
       "<polyline clip-path=\"url(#clip0700)\" style=\"stroke:#000000; stroke-width:4; stroke-opacity:1; fill:none\" points=\"\n",
       "  242.516,1425.62 274.17,1425.62 \n",
       "  \"/>\n",
       "<polyline clip-path=\"url(#clip0700)\" style=\"stroke:#000000; stroke-width:4; stroke-opacity:1; fill:none\" points=\"\n",
       "  242.516,1164.83 274.17,1164.83 \n",
       "  \"/>\n",
       "<polyline clip-path=\"url(#clip0700)\" style=\"stroke:#000000; stroke-width:4; stroke-opacity:1; fill:none\" points=\"\n",
       "  242.516,904.041 274.17,904.041 \n",
       "  \"/>\n",
       "<polyline clip-path=\"url(#clip0700)\" style=\"stroke:#000000; stroke-width:4; stroke-opacity:1; fill:none\" points=\"\n",
       "  242.516,643.253 274.17,643.253 \n",
       "  \"/>\n",
       "<polyline clip-path=\"url(#clip0700)\" style=\"stroke:#000000; stroke-width:4; stroke-opacity:1; fill:none\" points=\"\n",
       "  242.516,382.464 274.17,382.464 \n",
       "  \"/>\n",
       "<polyline clip-path=\"url(#clip0700)\" style=\"stroke:#000000; stroke-width:4; stroke-opacity:1; fill:none\" points=\"\n",
       "  242.516,121.675 274.17,121.675 \n",
       "  \"/>\n",
       "<g clip-path=\"url(#clip0700)\">\n",
       "<text style=\"fill:#000000; fill-opacity:1; font-family:Arial,Helvetica Neue,Helvetica,sans-serif; font-size:48px; text-anchor:middle;\" transform=\"rotate(0, 302.24, 1479.62)\" x=\"302.24\" y=\"1479.62\">0</text>\n",
       "</g>\n",
       "<g clip-path=\"url(#clip0700)\">\n",
       "<text style=\"fill:#000000; fill-opacity:1; font-family:Arial,Helvetica Neue,Helvetica,sans-serif; font-size:48px; text-anchor:middle;\" transform=\"rotate(0, 965.838, 1479.62)\" x=\"965.838\" y=\"1479.62\">1</text>\n",
       "</g>\n",
       "<g clip-path=\"url(#clip0700)\">\n",
       "<text style=\"fill:#000000; fill-opacity:1; font-family:Arial,Helvetica Neue,Helvetica,sans-serif; font-size:48px; text-anchor:middle;\" transform=\"rotate(0, 1629.43, 1479.62)\" x=\"1629.43\" y=\"1479.62\">2</text>\n",
       "</g>\n",
       "<g clip-path=\"url(#clip0700)\">\n",
       "<text style=\"fill:#000000; fill-opacity:1; font-family:Arial,Helvetica Neue,Helvetica,sans-serif; font-size:48px; text-anchor:middle;\" transform=\"rotate(0, 2293.03, 1479.62)\" x=\"2293.03\" y=\"1479.62\">3</text>\n",
       "</g>\n",
       "<g clip-path=\"url(#clip0700)\">\n",
       "<text style=\"fill:#000000; fill-opacity:1; font-family:Arial,Helvetica Neue,Helvetica,sans-serif; font-size:48px; text-anchor:end;\" transform=\"rotate(0, 218.516, 1443.12)\" x=\"218.516\" y=\"1443.12\">0.60</text>\n",
       "</g>\n",
       "<g clip-path=\"url(#clip0700)\">\n",
       "<text style=\"fill:#000000; fill-opacity:1; font-family:Arial,Helvetica Neue,Helvetica,sans-serif; font-size:48px; text-anchor:end;\" transform=\"rotate(0, 218.516, 1182.33)\" x=\"218.516\" y=\"1182.33\">0.61</text>\n",
       "</g>\n",
       "<g clip-path=\"url(#clip0700)\">\n",
       "<text style=\"fill:#000000; fill-opacity:1; font-family:Arial,Helvetica Neue,Helvetica,sans-serif; font-size:48px; text-anchor:end;\" transform=\"rotate(0, 218.516, 921.541)\" x=\"218.516\" y=\"921.541\">0.62</text>\n",
       "</g>\n",
       "<g clip-path=\"url(#clip0700)\">\n",
       "<text style=\"fill:#000000; fill-opacity:1; font-family:Arial,Helvetica Neue,Helvetica,sans-serif; font-size:48px; text-anchor:end;\" transform=\"rotate(0, 218.516, 660.753)\" x=\"218.516\" y=\"660.753\">0.63</text>\n",
       "</g>\n",
       "<g clip-path=\"url(#clip0700)\">\n",
       "<text style=\"fill:#000000; fill-opacity:1; font-family:Arial,Helvetica Neue,Helvetica,sans-serif; font-size:48px; text-anchor:end;\" transform=\"rotate(0, 218.516, 399.964)\" x=\"218.516\" y=\"399.964\">0.64</text>\n",
       "</g>\n",
       "<g clip-path=\"url(#clip0700)\">\n",
       "<text style=\"fill:#000000; fill-opacity:1; font-family:Arial,Helvetica Neue,Helvetica,sans-serif; font-size:48px; text-anchor:end;\" transform=\"rotate(0, 218.516, 139.175)\" x=\"218.516\" y=\"139.175\">0.65</text>\n",
       "</g>\n",
       "<g clip-path=\"url(#clip0700)\">\n",
       "<text style=\"fill:#000000; fill-opacity:1; font-family:Arial,Helvetica Neue,Helvetica,sans-serif; font-size:84px; text-anchor:middle;\" transform=\"rotate(0, 1297.64, 73.2)\" x=\"1297.64\" y=\"73.2\">Prescription evolution with perturbation</text>\n",
       "</g>\n",
       "<g clip-path=\"url(#clip0700)\">\n",
       "<text style=\"fill:#000000; fill-opacity:1; font-family:Arial,Helvetica Neue,Helvetica,sans-serif; font-size:66px; text-anchor:middle;\" transform=\"rotate(0, 1297.64, 1559.48)\" x=\"1297.64\" y=\"1559.48\">Pertubation level - Standard Deviation</text>\n",
       "</g>\n",
       "<g clip-path=\"url(#clip0700)\">\n",
       "<text style=\"fill:#000000; fill-opacity:1; font-family:Arial,Helvetica Neue,Helvetica,sans-serif; font-size:66px; text-anchor:middle;\" transform=\"rotate(-90, 89.2861, 773.647)\" x=\"89.2861\" y=\"773.647\">Accuracy</text>\n",
       "</g>\n",
       "<polyline clip-path=\"url(#clip0702)\" style=\"stroke:#009af9; stroke-width:4; stroke-opacity:1; fill:none\" points=\"\n",
       "  302.24,669.331 368.6,312.92 434.96,469.393 501.319,495.472 567.679,591.095 634.039,330.306 700.399,538.937 766.758,382.464 833.118,330.306 899.478,425.929 \n",
       "  965.838,504.165 1032.2,599.788 1098.56,521.551 1164.92,643.253 1231.28,443.315 1297.64,617.174 1364,643.253 1430.36,486.779 1496.72,651.945 1563.08,556.323 \n",
       "  1629.43,495.472 1695.79,843.191 1762.15,521.551 1828.51,608.481 1894.87,556.323 1961.23,747.568 2027.59,425.929 2093.95,773.647 2160.31,721.489 2226.67,990.971 \n",
       "  2293.03,495.472 \n",
       "  \"/>\n",
       "<polyline clip-path=\"url(#clip0702)\" style=\"stroke:#e26f46; stroke-width:4; stroke-opacity:1; fill:none\" points=\"\n",
       "  302.24,521.551 368.6,460.7 434.96,443.315 501.319,460.7 567.679,460.7 634.039,486.779 700.399,460.7 766.758,538.937 833.118,304.227 899.478,382.464 \n",
       "  965.838,530.244 1032.2,521.551 1098.56,460.7 1164.92,486.779 1231.28,530.244 1297.64,460.7 1364,460.7 1430.36,565.016 1496.72,547.63 1563.08,843.191 \n",
       "  1629.43,460.7 1695.79,425.929 1762.15,547.63 1828.51,460.7 1894.87,860.576 1961.23,686.717 2027.59,460.7 2093.95,721.489 2160.31,651.945 2226.67,460.7 \n",
       "  2293.03,643.253 \n",
       "  \"/>\n",
       "<polyline clip-path=\"url(#clip0702)\" style=\"stroke:#3da44d; stroke-width:4; stroke-opacity:1; fill:none\" points=\"\n",
       "  302.24,460.7 368.6,460.7 434.96,460.7 501.319,460.7 567.679,460.7 634.039,460.7 700.399,460.7 766.758,460.7 833.118,460.7 899.478,460.7 \n",
       "  965.838,460.7 1032.2,460.7 1098.56,460.7 1164.92,460.7 1231.28,460.7 1297.64,460.7 1364,460.7 1430.36,460.7 1496.72,460.7 1563.08,460.7 \n",
       "  1629.43,460.7 1695.79,460.7 1762.15,460.7 1828.51,460.7 1894.87,460.7 1961.23,460.7 2027.59,460.7 2093.95,460.7 2160.31,460.7 2226.67,460.7 \n",
       "  2293.03,460.7 \n",
       "  \"/>\n",
       "<path clip-path=\"url(#clip0700)\" d=\"\n",
       "M1881.53 447.115 L2280.76 447.115 L2280.76 205.195 L1881.53 205.195  Z\n",
       "  \" fill=\"#ffffff\" fill-rule=\"evenodd\" fill-opacity=\"1\"/>\n",
       "<polyline clip-path=\"url(#clip0700)\" style=\"stroke:#000000; stroke-width:4; stroke-opacity:1; fill:none\" points=\"\n",
       "  1881.53,447.115 2280.76,447.115 2280.76,205.195 1881.53,205.195 1881.53,447.115 \n",
       "  \"/>\n",
       "<polyline clip-path=\"url(#clip0700)\" style=\"stroke:#009af9; stroke-width:4; stroke-opacity:1; fill:none\" points=\"\n",
       "  1905.53,265.675 2049.53,265.675 \n",
       "  \"/>\n",
       "<g clip-path=\"url(#clip0700)\">\n",
       "<text style=\"fill:#000000; fill-opacity:1; font-family:Arial,Helvetica Neue,Helvetica,sans-serif; font-size:48px; text-anchor:start;\" transform=\"rotate(0, 2073.53, 283.175)\" x=\"2073.53\" y=\"283.175\">k = 100</text>\n",
       "</g>\n",
       "<polyline clip-path=\"url(#clip0700)\" style=\"stroke:#e26f46; stroke-width:4; stroke-opacity:1; fill:none\" points=\"\n",
       "  1905.53,326.155 2049.53,326.155 \n",
       "  \"/>\n",
       "<g clip-path=\"url(#clip0700)\">\n",
       "<text style=\"fill:#000000; fill-opacity:1; font-family:Arial,Helvetica Neue,Helvetica,sans-serif; font-size:48px; text-anchor:start;\" transform=\"rotate(0, 2073.53, 343.655)\" x=\"2073.53\" y=\"343.655\">k = 50</text>\n",
       "</g>\n",
       "<polyline clip-path=\"url(#clip0700)\" style=\"stroke:#3da44d; stroke-width:4; stroke-opacity:1; fill:none\" points=\"\n",
       "  1905.53,386.635 2049.53,386.635 \n",
       "  \"/>\n",
       "<g clip-path=\"url(#clip0700)\">\n",
       "<text style=\"fill:#000000; fill-opacity:1; font-family:Arial,Helvetica Neue,Helvetica,sans-serif; font-size:48px; text-anchor:start;\" transform=\"rotate(0, 2073.53, 404.135)\" x=\"2073.53\" y=\"404.135\">k = 20</text>\n",
       "</g>\n",
       "</svg>\n"
      ]
     },
     "execution_count": 75,
     "metadata": {},
     "output_type": "execute_result"
    }
   ],
   "source": [
    "using Plots\n",
    "gr()\n",
    "plot(seq_pertubation, accuracy_knn_o1, title = \"Prescription evolution with perturbation\", xlabel = \"Pertubation level - Standard Deviation\",ylabel = \"Accuracy\", label = \"k = 100\")\n",
    "plot!(seq_pertubation, accuracy_knn_o2, title = \"Prescription evolution with perturbation\", xlabel = \"Pertubation level - Standard Deviation\",ylabel = \"Accuracy\", label = \"k = 50\")\n",
    "plot!(seq_pertubation, accuracy_knn_o3, title = \"Prescription evolution with perturbation\", xlabel = \"Pertubation level - Standard Deviation\",ylabel = \"Accuracy\", label = \"k = 20\")\n",
    "ylims!((0.6,0.65))"
   ]
  }
 ],
 "metadata": {
  "kernelspec": {
   "display_name": "Julia 1.2.0",
   "language": "julia",
   "name": "julia-1.2"
  },
  "language_info": {
   "file_extension": ".jl",
   "mimetype": "application/julia",
   "name": "julia",
   "version": "1.2.0"
  }
 },
 "nbformat": 4,
 "nbformat_minor": 2
}
